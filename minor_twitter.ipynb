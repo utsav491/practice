{
 "cells": [
  {
   "cell_type": "code",
   "execution_count": 1,
   "metadata": {},
   "outputs": [],
   "source": [
    "\n",
    "import tweepy           # To consume Twitter's API\n",
    "import pandas as pd     # To handle data\n",
    "import numpy as np      # For number computing\n",
    "\n",
    "# For plotting and visualization:\n",
    "from IPython.display import display\n",
    "import matplotlib.pyplot as plt\n",
    "import seaborn as sns\n",
    "#%matplotlib inline\n"
   ]
  },
  {
   "cell_type": "code",
   "execution_count": 2,
   "metadata": {},
   "outputs": [],
   "source": [
    "CONSUMER_KEY    = \"wuaAS1hvfbJYfGHaMkmEekA6o\"\n",
    "CONSUMER_SECRET = \"3OUJE9WyDAQwAvwU2ORfiSTAL2AcvmmZjK1W46r8aarIPoRmgZ\"\n",
    "\n",
    "# Access:\n",
    "ACCESS_TOKEN  = \"587386090-ec0eqYW1QOhzJzNoELj5EZc6WxEzmWsG68nxjZ0B\"\n",
    "ACCESS_SECRET = \"mDCGjvXbAvjvnaEXKznDwfZRHrTfZG1VyzhTjwd75tQXh\"\n"
   ]
  },
  {
   "cell_type": "code",
   "execution_count": 3,
   "metadata": {},
   "outputs": [],
   "source": [
    "def twitter_setup():\n",
    "    \"\"\"\n",
    "    Utility function to setup the Twitter's API\n",
    "    with our access keys provided.\n",
    "    \"\"\"\n",
    "    # Authentication and access using keys:\n",
    "    auth = tweepy.OAuthHandler(CONSUMER_KEY, CONSUMER_SECRET)\n",
    "    auth.set_access_token(ACCESS_TOKEN, ACCESS_SECRET)\n",
    "\n",
    "    # Return API with authentication:\n",
    "    api = tweepy.API(auth)\n",
    "    return api\n",
    "\n",
    "\n"
   ]
  },
  {
   "cell_type": "code",
   "execution_count": 4,
   "metadata": {},
   "outputs": [
    {
     "name": "stdout",
     "output_type": "stream",
     "text": [
      "<tweepy.api.API object at 0x000001B84B36CBC8>\n",
      "Number of tweets extracted: 200.\n",
      "\n",
      "The 5 most recent tweets are : \n",
      "An update on Hakim Ziyech... 👀\n",
      "\n",
      "'It was a special day for me and for all of us. I feel really happy!' 😃\n",
      "\n",
      "A valuable point on the road for @ChelseaFCW! 👏 https://t.co/oQq5ylAMRg\n",
      "\n",
      "It’s Man City vs Chelsea in the @BarclaysFAWSL today!\n",
      "\n",
      "Good luck, @ChelseaFCW! ✊ https://t.co/zySGXllteC\n",
      "\n",
      "Chelsea Football Club, #ThePrideofLondon. 💙 https://t.co/YNwYjUNmr7\n",
      "\n"
     ]
    }
   ],
   "source": [
    "extractor = twitter_setup()\n",
    "print(extractor)\n",
    "\n",
    "\n",
    "tweets = extractor.user_timeline(screen_name  = \"@ChelseaFC\" , count = 200)\n",
    "\n",
    "print(\"Number of tweets extracted: {}.\\n\".format(len(tweets)))\n",
    "\n",
    "print(\"The 5 most recent tweets are : \")\n",
    "for tweet in tweets[0:5]:\n",
    "    print(tweet.text)\n",
    "    print()\n",
    "    \n"
   ]
  },
  {
   "cell_type": "code",
   "execution_count": 6,
   "metadata": {},
   "outputs": [
    {
     "name": "stdout",
     "output_type": "stream",
     "text": [
      "                                                Tweets\n",
      "0                       An update on Hakim Ziyech... 👀\n",
      "1    'It was a special day for me and for all of us...\n",
      "2    A valuable point on the road for @ChelseaFCW! ...\n",
      "3    It’s Man City vs Chelsea in the @BarclaysFAWSL...\n",
      "4    Chelsea Football Club, #ThePrideofLondon. 💙 ht...\n",
      "..                                                 ...\n",
      "195  Stoke drew level ten minutes before the interv...\n",
      "196  GOAL CHELSEA!\\n\\nWe're ahead after seven minut...\n",
      "197  It's an early start for #CFCU18s this morning ...\n",
      "198  🥶🎮👀 #WinterRefresh time for two of our stars!\\...\n",
      "199  Frank Lampard on Hakim Ziyech earlier today: '...\n",
      "\n",
      "[200 rows x 1 columns]\n"
     ]
    }
   ],
   "source": [
    "df = pd.DataFrame(data = [tweet.text for tweet in tweets], columns = [\"Tweets\"])\n",
    "print(df)"
   ]
  },
  {
   "cell_type": "code",
   "execution_count": 7,
   "metadata": {},
   "outputs": [
    {
     "name": "stdout",
     "output_type": "stream",
     "text": [
      "                                              Tweets\n",
      "0                     An update on Hakim Ziyech... 👀\n",
      "1  'It was a special day for me and for all of us...\n",
      "2  A valuable point on the road for @ChelseaFCW! ...\n",
      "3  It’s Man City vs Chelsea in the @BarclaysFAWSL...\n",
      "4  Chelsea Football Club, #ThePrideofLondon. 💙 ht...\n",
      "5  RT @ChelseaFCW: It's the battle of the Blues t...\n",
      "6  𝙎𝙖𝙩𝙞𝙨𝙛𝙮𝙞𝙣𝙜 𝙛𝙤𝙤𝙩𝙗𝙖𝙡𝙡 𝙨𝙤𝙪𝙣𝙙𝙨: https://t.co/PUMFj...\n",
      "7      The boss yesterday! 🙌 https://t.co/CXEIPifFvW\n",
      "8  Chelsea 2-1 Tottenham \\n\\nEnjoy! 😉 https://t.c...\n",
      "9             Morning all! 😘 https://t.co/DHEZ26034m\n",
      "1231687852074971138\n",
      "2020-02-23 21:10:42\n",
      "Twitter for Advertisers\n",
      "5923\n",
      "983\n",
      "None\n",
      "None\n",
      "{'hashtags': [], 'symbols': [], 'user_mentions': [], 'urls': []}\n"
     ]
    }
   ],
   "source": [
    "print(df[:10])\n",
    "print(tweets[0].id)\n",
    "print(tweets[0].created_at)\n",
    "print(tweets[0].source)\n",
    "print(tweets[0].favorite_count)\n",
    "print(tweets[0].retweet_count)\n",
    "print(tweets[0].geo)\n",
    "print(tweets[0].coordinates)\n",
    "print(tweets[0].entities)\n"
   ]
  },
  {
   "cell_type": "code",
   "execution_count": 8,
   "metadata": {},
   "outputs": [
    {
     "name": "stdout",
     "output_type": "stream",
     "text": [
      "                                                Tweets  len\n",
      "0                       An update on Hakim Ziyech... 👀   30\n",
      "1    'It was a special day for me and for all of us...   71\n",
      "2    A valuable point on the road for @ChelseaFCW! ...   71\n",
      "3    It’s Man City vs Chelsea in the @BarclaysFAWSL...  104\n",
      "4    Chelsea Football Club, #ThePrideofLondon. 💙 ht...   67\n",
      "..                                                 ...  ...\n",
      "195  Stoke drew level ten minutes before the interv...  126\n",
      "196  GOAL CHELSEA!\\n\\nWe're ahead after seven minut...  139\n",
      "197  It's an early start for #CFCU18s this morning ...  140\n",
      "198  🥶🎮👀 #WinterRefresh time for two of our stars!\\...  140\n",
      "199  Frank Lampard on Hakim Ziyech earlier today: '...  139\n",
      "\n",
      "[200 rows x 2 columns]\n"
     ]
    }
   ],
   "source": [
    "df[\"len\"]=  np.array([len(tweet.text) for tweet in tweets])\n",
    "print(df)\n"
   ]
  },
  {
   "cell_type": "code",
   "execution_count": 9,
   "metadata": {},
   "outputs": [
    {
     "name": "stdout",
     "output_type": "stream",
     "text": [
      "<class 'list'>\n"
     ]
    }
   ],
   "source": [
    "d = [tweet.id for tweet in tweets]\n",
    "print(type(d))\n"
   ]
  },
  {
   "cell_type": "code",
   "execution_count": 10,
   "metadata": {},
   "outputs": [
    {
     "name": "stdout",
     "output_type": "stream",
     "text": [
      "                                                Tweets  len  \\\n",
      "0                       An update on Hakim Ziyech... 👀   30   \n",
      "1    'It was a special day for me and for all of us...   71   \n",
      "2    A valuable point on the road for @ChelseaFCW! ...   71   \n",
      "3    It’s Man City vs Chelsea in the @BarclaysFAWSL...  104   \n",
      "4    Chelsea Football Club, #ThePrideofLondon. 💙 ht...   67   \n",
      "..                                                 ...  ...   \n",
      "195  Stoke drew level ten minutes before the interv...  126   \n",
      "196  GOAL CHELSEA!\\n\\nWe're ahead after seven minut...  139   \n",
      "197  It's an early start for #CFCU18s this morning ...  140   \n",
      "198  🥶🎮👀 #WinterRefresh time for two of our stars!\\...  140   \n",
      "199  Frank Lampard on Hakim Ziyech earlier today: '...  139   \n",
      "\n",
      "                      id                   ID                 _ID_  \n",
      "0    1231687852074971138  1231687852074971138  1231687852074971138  \n",
      "1    1231644438482575370  1231644438482575370  1231644438482575370  \n",
      "2    1231610868955303936  1231610868955303936  1231610868955303936  \n",
      "3    1231580626312204288  1231580626312204288  1231580626312204288  \n",
      "4    1231534659730857984  1231534659730857984  1231534659730857984  \n",
      "..                   ...                  ...                  ...  \n",
      "195  1228632799797706752  1228632799797706752  1228632799797706752  \n",
      "196  1228622973004853253  1228622973004853253  1228622973004853253  \n",
      "197  1228614072733704197  1228614072733704197  1228614072733704197  \n",
      "198  1228390207910797313  1228390207910797313  1228390207910797313  \n",
      "199  1228363522423152641  1228363522423152641  1228363522423152641  \n",
      "\n",
      "[200 rows x 5 columns]\n"
     ]
    }
   ],
   "source": [
    "df[\"id\"] = d\n",
    "df[\"ID\"] = [tweet.id  for tweet in tweets]\n",
    "df[\"_ID_\"]  = np.array([tweet.id for tweet in tweets])\n",
    "print(df)\n"
   ]
  },
  {
   "cell_type": "code",
   "execution_count": 11,
   "metadata": {},
   "outputs": [
    {
     "name": "stdout",
     "output_type": "stream",
     "text": [
      "True\n"
     ]
    }
   ],
   "source": [
    "print(df[\"id\"][0] ==  df[\"ID\"][0] == df[\"_ID_\"][0] )\n"
   ]
  },
  {
   "cell_type": "code",
   "execution_count": 12,
   "metadata": {},
   "outputs": [],
   "source": [
    "df[\"Date\"] = [tweet.created_at for tweet in tweets]\n",
    "df[\"source\"] = [tweet.source for tweet in tweets]\n",
    "df[\"Likes\"]= [tweet.favorite_count for tweet in tweets]\n",
    "\n",
    "df[\"RTs\"] = [tweet.retweet_count for tweet in tweets]\n",
    "\n"
   ]
  },
  {
   "cell_type": "code",
   "execution_count": 14,
   "metadata": {},
   "outputs": [
    {
     "name": "stdout",
     "output_type": "stream",
     "text": [
      "The length's average mean is  87.685\n",
      "23751\n"
     ]
    }
   ],
   "source": [
    "\n",
    "df.drop([\"_ID_\", \"id\"], axis = 1)\n",
    "\n",
    "mean = np.mean(df[\"len\"])\n",
    "print(\"The length's average mean is \", mean)\n",
    "\n",
    "fav_max = np.max(df[\"Likes\"])\n",
    "print(fav_max)\n",
    "\n"
   ]
  },
  {
   "cell_type": "code",
   "execution_count": 15,
   "metadata": {},
   "outputs": [
    {
     "name": "stdout",
     "output_type": "stream",
     "text": [
      "7139\n"
     ]
    }
   ],
   "source": [
    "rt_max =np.max(df[\"RTs\"])\n",
    "print(rt_max)\n"
   ]
  },
  {
   "cell_type": "code",
   "execution_count": 16,
   "metadata": {},
   "outputs": [
    {
     "name": "stdout",
     "output_type": "stream",
     "text": [
      "29    BIG three points! 💪\\n\\n#CHETOT https://t.co/BB...\n",
      "Name: Tweets, dtype: object\n"
     ]
    }
   ],
   "source": [
    "fav_ = df[df[\"Likes\"] == fav_max][\"Tweets\"]\n",
    "print(fav_)\n"
   ]
  },
  {
   "cell_type": "code",
   "execution_count": 17,
   "metadata": {},
   "outputs": [
    {
     "name": "stdout",
     "output_type": "stream",
     "text": [
      "The tweet which is most liked is BIG three points! 💪\n",
      "\n",
      "#CHETOT https://t.co/BBZyJzPHGK\n",
      "The most liked tweet has  23751 likes\n",
      "The len of the most liked tweet is  52\n"
     ]
    }
   ],
   "source": [
    "fav = df[df[\"Likes\"] == fav_max].index[0]\n",
    "print(\"The tweet which is most liked is {}\".format(df[\"Tweets\"][fav]))\n",
    "\n",
    "print(\"The most liked tweet has \", fav_max, \"likes\")\n",
    "\n",
    "print(\"The len of the most liked tweet is \", df[\"len\"][fav])\n",
    "\n"
   ]
  },
  {
   "cell_type": "code",
   "execution_count": 18,
   "metadata": {},
   "outputs": [
    {
     "name": "stdout",
     "output_type": "stream",
     "text": [
      "the tweet with the most Retweets is  BIG three points! 💪\n",
      "\n",
      "#CHETOT https://t.co/BBZyJzPHGK\n",
      "The no of retweets the most retweeted tweet has 7139\n",
      "The length of the most retweeted tweet is  52\n"
     ]
    }
   ],
   "source": [
    "\"\"\" RTs\"\"\"\n",
    "rt = df[df[\"RTs\"] == rt_max].index[0]\n",
    "print(\"the tweet with the most Retweets is \" , df[\"Tweets\"][rt] )\n",
    "print(\"The no of retweets the most retweeted tweet has\" , rt_max)\n",
    "print(\"The length of the most retweeted tweet is \" ,df[\"len\"][rt] )\n",
    "\n"
   ]
  },
  {
   "cell_type": "code",
   "execution_count": 19,
   "metadata": {},
   "outputs": [
    {
     "name": "stdout",
     "output_type": "stream",
     "text": [
      "Date\n",
      "2020-02-23 21:10:42     30\n",
      "2020-02-23 18:18:11     71\n",
      "2020-02-23 16:04:48     71\n",
      "2020-02-23 14:04:37    104\n",
      "2020-02-23 11:01:58     67\n",
      "                      ... \n",
      "2020-02-15 10:51:01    126\n",
      "2020-02-15 10:11:58    139\n",
      "2020-02-15 09:36:36    140\n",
      "2020-02-14 18:47:02    140\n",
      "2020-02-14 17:01:00    139\n",
      "Length: 200, dtype: int32\n"
     ]
    }
   ],
   "source": [
    "tlen = pd.Series(df[\"len\"].values,  index = df[\"Date\"])\n",
    "print(tlen)\n"
   ]
  },
  {
   "cell_type": "code",
   "execution_count": 20,
   "metadata": {},
   "outputs": [
    {
     "name": "stdout",
     "output_type": "stream",
     "text": [
      "Date\n",
      "2020-02-23 21:10:42     5923\n",
      "2020-02-23 18:18:11     4589\n",
      "2020-02-23 16:04:48     2700\n",
      "2020-02-23 14:04:37     2555\n",
      "2020-02-23 11:01:58    11790\n",
      "                       ...  \n",
      "2020-02-15 10:51:01     1296\n",
      "2020-02-15 10:11:58     2399\n",
      "2020-02-15 09:36:36     1861\n",
      "2020-02-14 18:47:02     7064\n",
      "2020-02-14 17:01:00    14737\n",
      "Length: 200, dtype: int64\n"
     ]
    }
   ],
   "source": [
    "tfav = pd.Series(df[\"Likes\"].values , index =df[\"Date\"])\n",
    "print(tfav)\n"
   ]
  },
  {
   "cell_type": "code",
   "execution_count": 21,
   "metadata": {},
   "outputs": [
    {
     "name": "stdout",
     "output_type": "stream",
     "text": [
      "Date\n",
      "2020-02-23 21:10:42     983\n",
      "2020-02-23 18:18:11     349\n",
      "2020-02-23 16:04:48     158\n",
      "2020-02-23 14:04:37     157\n",
      "2020-02-23 11:01:58    1875\n",
      "                       ... \n",
      "2020-02-15 10:51:01      74\n",
      "2020-02-15 10:11:58     127\n",
      "2020-02-15 09:36:36     127\n",
      "2020-02-14 18:47:02     366\n",
      "2020-02-14 17:01:00    1642\n",
      "Length: 200, dtype: int64\n"
     ]
    }
   ],
   "source": [
    "tretw = pd.Series(df[\"RTs\"].values,  index =df[\"Date\"])\n",
    "print(tretw)\n"
   ]
  },
  {
   "cell_type": "code",
   "execution_count": 22,
   "metadata": {},
   "outputs": [
    {
     "data": {
      "text/plain": [
       "<matplotlib.axes._subplots.AxesSubplot at 0x1b8461385c8>"
      ]
     },
     "execution_count": 22,
     "metadata": {},
     "output_type": "execute_result"
    },
    {
     "data": {
      "image/png": "[encoded data removed]",
      "text/plain": [
       "<Figure size 864x288 with 1 Axes>"
      ]
     },
     "metadata": {
      "needs_background": "light"
     },
     "output_type": "display_data"
    }
   ],
   "source": [
    "tlen.plot(figsize = (12,4) , color = 'r')\n"
   ]
  },
  {
   "cell_type": "code",
   "execution_count": 23,
   "metadata": {},
   "outputs": [
    {
     "data": {
      "text/plain": [
       "<matplotlib.axes._subplots.AxesSubplot at 0x1b84b98e748>"
      ]
     },
     "execution_count": 23,
     "metadata": {},
     "output_type": "execute_result"
    },
    {
     "data": {
      "image/png": "[encoded data removed]",
      "text/plain": [
       "<Figure size 1152x288 with 1 Axes>"
      ]
     },
     "metadata": {
      "needs_background": "light"
     },
     "output_type": "display_data"
    }
   ],
   "source": [
    "tfav.plot(figsize=(16,4), label=\"Likes\", legend=True)\n",
    "tretw.plot(figsize=(16,4), label=\"Retweets\", legend=True)\n"
   ]
  },
  {
   "cell_type": "code",
   "execution_count": 24,
   "metadata": {},
   "outputs": [
    {
     "name": "stdout",
     "output_type": "stream",
     "text": [
      "['Twitter for Advertisers', 'Twitter for iPhone', 'Twitter Media Studio', 'Twitter Web App', 'TweetDeck']\n"
     ]
    }
   ],
   "source": [
    "sources = []\n",
    "for source in df[\"source\"]:\n",
    "    if source not in sources:\n",
    "        sources.append(source)\n",
    "print(sources)\n"
   ]
  },
  {
   "cell_type": "code",
   "execution_count": 25,
   "metadata": {},
   "outputs": [
    {
     "name": "stdout",
     "output_type": "stream",
     "text": [
      "Creation of content sources:\n",
      "* Twitter for Advertisers\n",
      "* Twitter for iPhone\n",
      "* Twitter Media Studio\n",
      "* Twitter Web App\n",
      "* TweetDeck\n"
     ]
    }
   ],
   "source": [
    "print(\"Creation of content sources:\")\n",
    "for source in sources:\n",
    "    print(\"* {}\".format(source))\n",
    "    \n"
   ]
  },
  {
   "cell_type": "code",
   "execution_count": 26,
   "metadata": {},
   "outputs": [
    {
     "name": "stdout",
     "output_type": "stream",
     "text": [
      "[0. 0. 0. 0. 0.]\n"
     ]
    }
   ],
   "source": [
    "percent = np.zeros(len(sources))\n",
    "print(percent)\n"
   ]
  },
  {
   "cell_type": "code",
   "execution_count": 30,
   "metadata": {},
   "outputs": [
    {
     "name": "stdout",
     "output_type": "stream",
     "text": [
      "['Twitter for Advertisers', 'Twitter for iPhone', 'Twitter Media Studio', 'Twitter Web App', 'TweetDeck']\n"
     ]
    }
   ],
   "source": [
    "#for source in df[\"source\"]:\n",
    " #   print(source)\n",
    "lisy = []\n",
    "for x in df[\"source\"]:\n",
    "    if x not in lisy:\n",
    "        lisy.append(x)\n",
    "print(lisy)\n",
    "\n"
   ]
  },
  {
   "cell_type": "code",
   "execution_count": 32,
   "metadata": {},
   "outputs": [
    {
     "name": "stdout",
     "output_type": "stream",
     "text": [
      "{'Twitter Web App': 115, 'Twitter Media Studio': 39, 'Twitter for Advertisers': 28, 'Twitter for iPhone': 17, 'TweetDeck': 1}\n",
      "[115, 39, 28, 17, 1]\n"
     ]
    }
   ],
   "source": [
    "#for source in df[\"source\"]:\n",
    "    #print(source)\n",
    "count = dict(df[\"source\"].value_counts())\n",
    "print(count)\n",
    "s = sum(count.values())\n",
    "percentage =[]\n",
    "source = []\n",
    "new =  [a for a in df[\"source\"].value_counts()]\n",
    "print(new)\n"
   ]
  },
  {
   "cell_type": "code",
   "execution_count": 33,
   "metadata": {},
   "outputs": [
    {
     "name": "stdout",
     "output_type": "stream",
     "text": [
      "Twitter Web App 57.5\n",
      "Twitter Media Studio 19.5\n",
      "Twitter for Advertisers 14.0\n",
      "Twitter for iPhone 8.5\n",
      "TweetDeck 0.5\n"
     ]
    },
    {
     "data": {
      "image/png": "[encoded data removed]",
      "text/plain": [
       "<Figure size 432x288 with 1 Axes>"
      ]
     },
     "metadata": {},
     "output_type": "display_data"
    }
   ],
   "source": [
    "for k, v in count.items():\n",
    "    pct = v * 100.0 / s\n",
    "    print(k, pct)\n",
    "    percentage.append(v)\n",
    "    source.append(k)\n",
    "plt.pie(percentage , labels = source)\n",
    "plt.show()\n"
   ]
  },
  {
   "cell_type": "code",
   "execution_count": null,
   "metadata": {},
   "outputs": [],
   "source": [
    "\n"
   ]
  },
  {
   "cell_type": "code",
   "execution_count": null,
   "metadata": {},
   "outputs": [],
   "source": []
  }
 ],
 "metadata": {
  "kernelspec": {
   "display_name": "Python 3",
   "language": "python",
   "name": "python3"
  },
  "language_info": {
   "codemirror_mode": {
    "name": "ipython",
    "version": 3
   },
   "file_extension": ".py",
   "mimetype": "text/x-python",
   "name": "python",
   "nbconvert_exporter": "python",
   "pygments_lexer": "ipython3",
   "version": "3.7.4"
  }
 },
 "nbformat": 4,
 "nbformat_minor": 2
}
